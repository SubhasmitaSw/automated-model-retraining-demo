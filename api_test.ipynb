{
 "cells": [
  {
   "cell_type": "code",
   "execution_count": 8,
   "metadata": {},
   "outputs": [
    {
     "name": "stdout",
     "output_type": "stream",
     "text": [
      "{'predictions': ['Malignant']}\n"
     ]
    }
   ],
   "source": [
    "import requests\n",
    "\n",
    "url = \"http://localhost:8000/predict\"\n",
    "\n",
    "# test a sample data point for breast cancer dataset \n",
    "data = {\n",
    "    \"data\": [\n",
    "        [13.54, 14.36, 87.46, 566.3, 0.09779, 0.08129, 0.06664, 0.04781, 0.1885, 0.05766, 0.7269, 0.7269, 4.741, 84.74, 0.005185, 0.01308, 0.0186, 0.0134, 0.01389, 0.003532, 14.91, 19.26, 92.09, 637.1, 0.1185, 0.1774, 0.2397, 0.1281, 0.2977, 0.07259]\n",
    "    ]\n",
    "}\n",
    "\n",
    "# send the data to the API\n",
    "response = requests.post(url, json=data)\n",
    "print(response.json())"
   ]
  }
 ],
 "metadata": {
  "kernelspec": {
   "display_name": ".venv",
   "language": "python",
   "name": "python3"
  },
  "language_info": {
   "codemirror_mode": {
    "name": "ipython",
    "version": 3
   },
   "file_extension": ".py",
   "mimetype": "text/x-python",
   "name": "python",
   "nbconvert_exporter": "python",
   "pygments_lexer": "ipython3",
   "version": "3.12.3"
  }
 },
 "nbformat": 4,
 "nbformat_minor": 2
}
